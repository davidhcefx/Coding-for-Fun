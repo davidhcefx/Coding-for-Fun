{
 "cells": [
  {
   "cell_type": "markdown",
   "metadata": {},
   "source": [
    "# Binary representation for a floating-point number."
   ]
  },
  {
   "cell_type": "code",
   "execution_count": 1,
   "metadata": {},
   "outputs": [],
   "source": [
    "def to_bin(num: float, precision=32):\n",
    "    res = []\n",
    "\n",
    "    # integer part\n",
    "    int_part = int(num)\n",
    "    res.append(bin(int_part) + '.')\n",
    "\n",
    "    # remainder part\n",
    "    num -= int_part\n",
    "    for i in range(precision):\n",
    "        num *= 2\n",
    "        bit = int(num)\n",
    "        res.append(str(bit))\n",
    "        num -= bit\n",
    "\n",
    "    return ''.join(res)"
   ]
  },
  {
   "cell_type": "code",
   "execution_count": 2,
   "metadata": {},
   "outputs": [
    {
     "name": "stdout",
     "output_type": "stream",
     "text": [
      "0b111.00100000000000000000000000000000\n"
     ]
    }
   ],
   "source": [
    "binary = to_bin(7.125)\n",
    "print(binary)"
   ]
  },
  {
   "cell_type": "code",
   "execution_count": 3,
   "metadata": {},
   "outputs": [
    {
     "name": "stdout",
     "output_type": "stream",
     "text": [
      "0b111.00100000000000000000000000000000000000000000000000\n"
     ]
    }
   ],
   "source": [
    "def using_the_default_function(num: float):\n",
    "    hex_str = num.hex()\n",
    "    binary_default = bin(int(hex_str[2:-3].replace('.', ''), 16))[2:]\n",
    "    exp = int(hex_str[-2:])\n",
    "\n",
    "    if exp < 0:\n",
    "        binary_default = f'0.{\"0\" * (abs(exp) - 1)}{binary_default}'\n",
    "    else:\n",
    "        binary_default = f'{binary_default[:exp+1]}.{binary_default[exp+1:]}'\n",
    "\n",
    "    print('0b' + binary_default)\n",
    "\n",
    "using_the_default_function(7.125)"
   ]
  },
  {
   "cell_type": "code",
   "execution_count": 4,
   "metadata": {},
   "outputs": [
    {
     "name": "stdout",
     "output_type": "stream",
     "text": [
      "0b1011000.11100001010001111010111000010100\n"
     ]
    }
   ],
   "source": [
    "binary = to_bin(88.88)\n",
    "print(binary)"
   ]
  },
  {
   "cell_type": "code",
   "execution_count": 5,
   "metadata": {},
   "outputs": [
    {
     "name": "stdout",
     "output_type": "stream",
     "text": [
      "0b1011000.1110000101000111101011100001010001111010111000\n"
     ]
    }
   ],
   "source": [
    "using_the_default_function(88.88)"
   ]
  }
 ],
 "metadata": {
  "kernelspec": {
   "display_name": "Python 3",
   "language": "python",
   "name": "python3"
  },
  "language_info": {
   "codemirror_mode": {
    "name": "ipython",
    "version": 3
   },
   "file_extension": ".py",
   "mimetype": "text/x-python",
   "name": "python",
   "nbconvert_exporter": "python",
   "pygments_lexer": "ipython3",
   "version": "3.6.11"
  }
 },
 "nbformat": 4,
 "nbformat_minor": 4
}
