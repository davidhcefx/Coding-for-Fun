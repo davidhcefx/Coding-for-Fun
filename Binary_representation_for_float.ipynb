{
 "cells": [
  {
   "cell_type": "markdown",
   "metadata": {},
   "source": [
    "# Binary representation for a floating-point number\n",
    "\n",
    "This is a function I wrote.  \n",
    "In theory, this function could calculate arbitrary precision. (limited by the precision of float, however)"
   ]
  },
  {
   "cell_type": "code",
   "execution_count": 30,
   "metadata": {},
   "outputs": [],
   "source": [
    "def to_bin(num: float, precision=32):\n",
    "    res = []\n",
    "\n",
    "    # integer part\n",
    "    int_part = int(num)\n",
    "    res.append(bin(int_part) + '.')\n",
    "\n",
    "    # remainder part\n",
    "    num -= int_part\n",
    "    for i in range(precision):\n",
    "        num *= 2\n",
    "        bit = int(num)\n",
    "        res.append(str(bit))\n",
    "        num -= bit\n",
    "\n",
    "    return ''.join(res)"
   ]
  },
  {
   "cell_type": "code",
   "execution_count": 31,
   "metadata": {},
   "outputs": [
    {
     "name": "stdout",
     "output_type": "stream",
     "text": [
      "0b111.00100000000000000000000000000000\n"
     ]
    }
   ],
   "source": [
    "print(to_bin(7.125))"
   ]
  },
  {
   "cell_type": "markdown",
   "metadata": {},
   "source": [
    "# Using the default function `hex`"
   ]
  },
  {
   "cell_type": "code",
   "execution_count": 32,
   "metadata": {},
   "outputs": [],
   "source": [
    "def from_the_default_function(num: float):\n",
    "    hex_str = num.hex()\n",
    "    binary, _, exp = hex_str.rpartition('p')\n",
    "    binary = bin(int(binary[2:].replace('.', ''), 16))[2:]\n",
    "    exp = int(exp)\n",
    "    \n",
    "    if exp < 0:\n",
    "        binary = f'0.{\"0\" * (abs(exp) - 1)}{binary}'\n",
    "    else:\n",
    "        binary = f'{binary[:exp+1]}.{binary[exp+1:]}'\n",
    "        \n",
    "    return '0b' + binary"
   ]
  },
  {
   "cell_type": "code",
   "execution_count": 33,
   "metadata": {},
   "outputs": [
    {
     "name": "stdout",
     "output_type": "stream",
     "text": [
      "0b111.00100000000000000000000000000000000000000000000000\n"
     ]
    }
   ],
   "source": [
    "print(from_the_default_function(7.125))"
   ]
  },
  {
   "cell_type": "markdown",
   "metadata": {},
   "source": [
    "# Some more examples"
   ]
  },
  {
   "cell_type": "code",
   "execution_count": 34,
   "metadata": {},
   "outputs": [
    {
     "name": "stdout",
     "output_type": "stream",
     "text": [
      "0b1011000.11100001010001111010111000010100011110101110000000\n",
      "0b1011000.1110000101000111101011100001010001111010111000\n"
     ]
    }
   ],
   "source": [
    "print(to_bin(88.88, 50))\n",
    "print(from_the_default_function(88.88))"
   ]
  },
  {
   "cell_type": "code",
   "execution_count": 35,
   "metadata": {},
   "outputs": [
    {
     "name": "stdout",
     "output_type": "stream",
     "text": [
      "0b0.0000000001000001100010010011011101001011110001101010011111110000\n",
      "0b0.00000000010000011000100100110111010010111100011010100111111100\n"
     ]
    }
   ],
   "source": [
    "print(to_bin(0.001, 64))\n",
    "print(from_the_default_function(0.001))"
   ]
  }
 ],
 "metadata": {
  "kernelspec": {
   "display_name": "Python 3",
   "language": "python",
   "name": "python3"
  },
  "language_info": {
   "codemirror_mode": {
    "name": "ipython",
    "version": 3
   },
   "file_extension": ".py",
   "mimetype": "text/x-python",
   "name": "python",
   "nbconvert_exporter": "python",
   "pygments_lexer": "ipython3",
   "version": "3.6.11"
  }
 },
 "nbformat": 4,
 "nbformat_minor": 4
}
